{
 "cells": [
  {
   "cell_type": "code",
   "execution_count": 1,
   "id": "d7682165",
   "metadata": {},
   "outputs": [],
   "source": [
    "import pandas as pd\n",
    "import numpy as np \n",
    "import os\n",
    "import cv2\n",
    "import matplotlib.pyplot as plt\n",
    "import warnings\n"
   ]
  },
  {
   "cell_type": "code",
   "execution_count": 2,
   "id": "a5af0ca0",
   "metadata": {},
   "outputs": [],
   "source": [
    "import tensorflow as tf\n",
    "from tensorflow import keras\n",
    "from tensorflow.keras import layers\n",
    "from tensorflow.keras.preprocessing.image import ImageDataGenerator\n",
    "import keras_tuner as kt"
   ]
  },
  {
   "cell_type": "code",
   "execution_count": 3,
   "id": "8b8c05a7",
   "metadata": {},
   "outputs": [
    {
     "name": "stdout",
     "output_type": "stream",
     "text": [
      "Num GPUs Available:  0\n"
     ]
    }
   ],
   "source": [
    "print(\"Num GPUs Available: \", len(tf.config.list_physical_devices('GPU')))"
   ]
  },
  {
   "cell_type": "code",
   "execution_count": 4,
   "id": "b9683770",
   "metadata": {},
   "outputs": [],
   "source": [
    "IMAGE_SIZE = (224, 224)\n",
    "BATCH_SIZE = 32\n",
    "EPOCHS = 10\n"
   ]
  },
  {
   "cell_type": "code",
   "execution_count": 5,
   "id": "1e7fccb8",
   "metadata": {},
   "outputs": [],
   "source": [
    "# Set the seed value for experiment reproducibility.\n",
    "seed = 1842\n",
    "tf.random.set_seed(seed)\n",
    "np.random.seed(seed)\n",
    "# Turn off warnings for cleaner looking notebook\n",
    "warnings.simplefilter('ignore')"
   ]
  },
  {
   "cell_type": "code",
   "execution_count": 6,
   "id": "8c323abe",
   "metadata": {},
   "outputs": [
    {
     "name": "stdout",
     "output_type": "stream",
     "text": [
      "Found 3681 images belonging to 2 classes.\n",
      "Found 141 images belonging to 2 classes.\n"
     ]
    }
   ],
   "source": [
    "from tensorflow.keras.preprocessing.image import ImageDataGenerator\n",
    "image_generator = ImageDataGenerator(\n",
    "        rescale=1/255,\n",
    "        rotation_range=10, # rotation\n",
    "        width_shift_range=0.2, # horizontal shift\n",
    "        height_shift_range=0.2, # vertical shift\n",
    "        zoom_range=0.2, # zoom\n",
    "        horizontal_flip=True, # horizontal flip\n",
    "        brightness_range=[0.2,1.2],# brightness\n",
    "        validation_split=0.2,)\n",
    "\n",
    "#Train & Validation Split\n",
    "train_dataset = image_generator.flow_from_directory(batch_size=32,\n",
    "                                                 directory=r'C:\\Users\\dell\\Desktop\\datasets\\train',\n",
    "                                                 shuffle=True,\n",
    "                                                 target_size=(224, 224),\n",
    "                                                 subset=\"training\",\n",
    "                                                 class_mode='binary')\n",
    "\n",
    "validation_dataset = image_generator.flow_from_directory(batch_size=32,\n",
    "                                                 directory=r'C:\\Users\\dell\\Desktop\\datasets\\test',\n",
    "                                                 shuffle=True,\n",
    "                                                 target_size=(224, 224),\n",
    "                                                 subset=\"validation\",\n",
    "                                                 class_mode='binary')"
   ]
  },
  {
   "cell_type": "code",
   "execution_count": 7,
   "id": "15aef4ff",
   "metadata": {},
   "outputs": [],
   "source": [
    "model = keras.models.Sequential([\n",
    "    keras.layers.Conv2D(32, (3, 3), activation='relu', input_shape = [224, 224,3]),\n",
    "    keras.layers.MaxPooling2D(),\n",
    "    keras.layers.Conv2D(64, (2, 2), activation='relu'),\n",
    "    keras.layers.MaxPooling2D(),\n",
    "    keras.layers.Conv2D(64, (2, 2), activation='relu'),\n",
    "    keras.layers.Flatten(),\n",
    "    keras.layers.Dense(128, activation='relu'),\n",
    "    keras.layers.Dense(1, activation ='sigmoid')\n",
    "])"
   ]
  },
  {
   "cell_type": "code",
   "execution_count": 8,
   "id": "cbb7aedd",
   "metadata": {},
   "outputs": [],
   "source": [
    "model.compile(optimizer='adam',\n",
    "             loss = 'binary_crossentropy',\n",
    "             metrics=['accuracy'])\n",
    " "
   ]
  },
  {
   "cell_type": "code",
   "execution_count": 9,
   "id": "cb1c4360",
   "metadata": {},
   "outputs": [
    {
     "name": "stdout",
     "output_type": "stream",
     "text": [
      "Model: \"sequential\"\n",
      "_________________________________________________________________\n",
      " Layer (type)                Output Shape              Param #   \n",
      "=================================================================\n",
      " conv2d (Conv2D)             (None, 222, 222, 32)      896       \n",
      "                                                                 \n",
      " max_pooling2d (MaxPooling2D  (None, 111, 111, 32)     0         \n",
      " )                                                               \n",
      "                                                                 \n",
      " conv2d_1 (Conv2D)           (None, 110, 110, 64)      8256      \n",
      "                                                                 \n",
      " max_pooling2d_1 (MaxPooling  (None, 55, 55, 64)       0         \n",
      " 2D)                                                             \n",
      "                                                                 \n",
      " conv2d_2 (Conv2D)           (None, 54, 54, 64)        16448     \n",
      "                                                                 \n",
      " flatten (Flatten)           (None, 186624)            0         \n",
      "                                                                 \n",
      " dense (Dense)               (None, 128)               23888000  \n",
      "                                                                 \n",
      " dense_1 (Dense)             (None, 1)                 129       \n",
      "                                                                 \n",
      "=================================================================\n",
      "Total params: 23,913,729\n",
      "Trainable params: 23,913,729\n",
      "Non-trainable params: 0\n",
      "_________________________________________________________________\n"
     ]
    }
   ],
   "source": [
    "model.summary()"
   ]
  },
  {
   "cell_type": "code",
   "execution_count": 10,
   "id": "9039387b",
   "metadata": {},
   "outputs": [
    {
     "name": "stdout",
     "output_type": "stream",
     "text": [
      "Epoch 1/20\n",
      "116/116 [==============================] - 155s 1s/step - loss: 0.6706 - accuracy: 0.6781 - val_loss: 0.7881 - val_accuracy: 0.6241\n",
      "Epoch 2/20\n",
      "116/116 [==============================] - 127s 1s/step - loss: 0.5217 - accuracy: 0.7596 - val_loss: 0.5392 - val_accuracy: 0.7730\n",
      "Epoch 3/20\n",
      "116/116 [==============================] - 131s 1s/step - loss: 0.4605 - accuracy: 0.7903 - val_loss: 0.4250 - val_accuracy: 0.8014\n",
      "Epoch 4/20\n",
      "116/116 [==============================] - 133s 1s/step - loss: 0.4482 - accuracy: 0.7990 - val_loss: 0.4079 - val_accuracy: 0.8440\n",
      "Epoch 5/20\n",
      "116/116 [==============================] - 134s 1s/step - loss: 0.4524 - accuracy: 0.7990 - val_loss: 0.3663 - val_accuracy: 0.8582\n",
      "Epoch 6/20\n",
      "116/116 [==============================] - 135s 1s/step - loss: 0.4138 - accuracy: 0.8191 - val_loss: 0.3574 - val_accuracy: 0.8440\n",
      "Epoch 7/20\n",
      "116/116 [==============================] - 136s 1s/step - loss: 0.4367 - accuracy: 0.8126 - val_loss: 0.3835 - val_accuracy: 0.8369\n",
      "Epoch 8/20\n",
      "116/116 [==============================] - 137s 1s/step - loss: 0.3889 - accuracy: 0.8313 - val_loss: 0.3831 - val_accuracy: 0.8156\n",
      "Epoch 9/20\n",
      "116/116 [==============================] - 137s 1s/step - loss: 0.4006 - accuracy: 0.8221 - val_loss: 0.4162 - val_accuracy: 0.7943\n",
      "Epoch 10/20\n",
      "116/116 [==============================] - 137s 1s/step - loss: 0.3844 - accuracy: 0.8397 - val_loss: 0.2868 - val_accuracy: 0.8511\n",
      "Epoch 11/20\n",
      "116/116 [==============================] - 138s 1s/step - loss: 0.4009 - accuracy: 0.8207 - val_loss: 0.3779 - val_accuracy: 0.8298\n",
      "Epoch 12/20\n",
      "116/116 [==============================] - 141s 1s/step - loss: 0.3870 - accuracy: 0.8256 - val_loss: 0.3854 - val_accuracy: 0.8298\n",
      "Epoch 13/20\n",
      "116/116 [==============================] - 141s 1s/step - loss: 0.3799 - accuracy: 0.8370 - val_loss: 0.3289 - val_accuracy: 0.8652\n",
      "Epoch 14/20\n",
      "116/116 [==============================] - 138s 1s/step - loss: 0.3603 - accuracy: 0.8378 - val_loss: 0.3250 - val_accuracy: 0.8298\n",
      "Epoch 15/20\n",
      "116/116 [==============================] - 139s 1s/step - loss: 0.3679 - accuracy: 0.8392 - val_loss: 0.3506 - val_accuracy: 0.8582\n",
      "Epoch 16/20\n",
      "116/116 [==============================] - 137s 1s/step - loss: 0.3705 - accuracy: 0.8362 - val_loss: 0.4278 - val_accuracy: 0.7872\n",
      "Epoch 17/20\n",
      "116/116 [==============================] - 137s 1s/step - loss: 0.3743 - accuracy: 0.8259 - val_loss: 0.3056 - val_accuracy: 0.8936\n",
      "Epoch 18/20\n",
      "116/116 [==============================] - 137s 1s/step - loss: 0.3679 - accuracy: 0.8378 - val_loss: 0.3054 - val_accuracy: 0.8440\n",
      "Epoch 19/20\n",
      "116/116 [==============================] - 137s 1s/step - loss: 0.3448 - accuracy: 0.8435 - val_loss: 0.3105 - val_accuracy: 0.8794\n",
      "Epoch 20/20\n",
      "116/116 [==============================] - 138s 1s/step - loss: 0.3436 - accuracy: 0.8500 - val_loss: 0.3137 - val_accuracy: 0.8582\n"
     ]
    }
   ],
   "source": [
    "\n",
    "r=model.fit(train_dataset, epochs=20, validation_data=validation_dataset)"
   ]
  },
  {
   "cell_type": "code",
   "execution_count": 27,
   "id": "1e762f59",
   "metadata": {},
   "outputs": [
    {
     "data": {
      "image/png": "[encoded data removed]",
      "text/plain": [
       "<Figure size 640x480 with 1 Axes>"
      ]
     },
     "metadata": {},
     "output_type": "display_data"
    },
    {
     "data": {
      "image/png": "[encoded data removed]",
      "text/plain": [
       "<Figure size 640x480 with 1 Axes>"
      ]
     },
     "metadata": {},
     "output_type": "display_data"
    },
    {
     "data": {
      "text/plain": [
       "<Figure size 640x480 with 0 Axes>"
      ]
     },
     "metadata": {},
     "output_type": "display_data"
    }
   ],
   "source": [
    "import numpy as np\n",
    "import pandas as pd\n",
    "import matplotlib.pyplot as plt\n",
    "\n",
    "# Assuming you already have r.history containing the loss and accuracy values\n",
    "\n",
    "# Plot the loss\n",
    "plt.plot(r.history['loss'], label='train loss')\n",
    "plt.plot(r.history['val_loss'], label='val loss')\n",
    "plt.legend()\n",
    "\n",
    "plt.ylabel('Loss')\n",
    "plt.xlabel('Epoch')\n",
    "\n",
    "# Convert x-axis and y-axis ticks to integers\n",
    "plt.xticks(np.arange(0, len(r.history['loss']), 1))\n",
    "\n",
    "\n",
    "plt.show()\n",
    "plt.savefig('LossVal_loss')\n",
    "\n",
    "# Plot the accuracy\n",
    "plt.plot(r.history['accuracy'], label='train acc')\n",
    "plt.plot(r.history['val_accuracy'], label='val acc')\n",
    "plt.legend()\n",
    "\n",
    "plt.ylabel('Accuracy')\n",
    "plt.xlabel('Epoch')\n",
    "# Convert x-axis and y-axis ticks to integers\n",
    "plt.xticks(np.arange(0, len(r.history['loss']), 1))\n",
    "\n",
    "\n",
    "plt.show()\n",
    "plt.savefig('AccVal_acc')\n"
   ]
  },
  {
   "cell_type": "code",
   "execution_count": 12,
   "id": "92047f30",
   "metadata": {},
   "outputs": [
    {
     "name": "stdout",
     "output_type": "stream",
     "text": [
      "Found 709 images belonging to 2 classes.\n",
      "23/23 [==============================] - 18s 786ms/step - loss: 0.2694 - accuracy: 0.8829\n",
      "Test Loss: 0.269\n",
      "Test Accuracy: 0.883\n"
     ]
    }
   ],
   "source": [
    "test_datagen = ImageDataGenerator(rescale=1./255)\n",
    "\n",
    "test_generator = test_datagen.flow_from_directory(\n",
    "    directory=r\"C:\\Users\\dell\\Desktop\\datasets\\test\",\n",
    "    target_size=IMAGE_SIZE,\n",
    "    batch_size=BATCH_SIZE,\n",
    "    class_mode='binary')\n",
    "\n",
    "loss, accuracy = model.evaluate(test_generator)\n",
    "\n",
    "print(f\"Test Loss: {loss:.3f}\")\n",
    "print(f\"Test Accuracy: {accuracy:.3f}\")"
   ]
  },
  {
   "cell_type": "code",
   "execution_count": 13,
   "id": "e2fbeaf0",
   "metadata": {},
   "outputs": [
    {
     "name": "stdout",
     "output_type": "stream",
     "text": [
      "[[394   0]\n",
      " [315   0]]\n"
     ]
    }
   ],
   "source": [
    "from sklearn.metrics import confusion_matrix\n",
    "# Generate predicted class probabilities for test data\n",
    "y_pred = model.predict_generator(test_generator)\n",
    "\n",
    "# Convert predicted probabilities to class labels\n",
    "y_pred_classes = np.argmax(y_pred, axis=1)\n",
    "\n",
    "# Get true class labels for test data\n",
    "y_true_classes = test_generator.classes\n",
    "\n",
    "\n",
    "\n",
    "# Calculate confusion matrix\n",
    "cm = confusion_matrix(y_true_classes, y_pred_classes)\n",
    "print(cm)"
   ]
  },
  {
   "cell_type": "code",
   "execution_count": 14,
   "id": "969cfbf6",
   "metadata": {},
   "outputs": [],
   "source": [
    "from tensorflow.keras.models import load_model\n",
    "\n",
    "model.save('cnn_model.h5')"
   ]
  },
  {
   "cell_type": "code",
   "execution_count": 15,
   "id": "dfe7036e",
   "metadata": {},
   "outputs": [],
   "source": [
    "import tensorflow as tf\n",
    "from tensorflow.keras.preprocessing.image import load_img, img_to_array\n",
    "import numpy as np"
   ]
  },
  {
   "cell_type": "code",
   "execution_count": 16,
   "id": "00d48779",
   "metadata": {},
   "outputs": [],
   "source": [
    " image_path = r\"C:\\Users\\dell\\Desktop\\datasets\\test\\tender\\1 (2).jpg\"\n",
    "image = load_img(image_path, target_size=(128, 128))\n",
    "image_array = img_to_array(image) / 255.0\n",
    "image_array = np.expand_dims(image_array, axis=0)\n"
   ]
  },
  {
   "cell_type": "code",
   "execution_count": 17,
   "id": "6dafaacd",
   "metadata": {},
   "outputs": [],
   "source": [
    "model = tf.keras.models.load_model(\"cnn_model.h5\")"
   ]
  },
  {
   "cell_type": "code",
   "execution_count": 18,
   "id": "0765e841",
   "metadata": {},
   "outputs": [
    {
     "name": "stdout",
     "output_type": "stream",
     "text": [
      "1/1 [==============================] - 0s 94ms/step\n",
      "[[0.8974867]]\n",
      "The image is predicted to belong to class 1 (vacancies).\n"
     ]
    }
   ],
   "source": [
    "image_path = r\"C:\\Users\\dell\\Pictures\\EBL_EBL_Career-in-Banking_3x14cc.jpg\"\n",
    "image = load_img(image_path, target_size=(224, 224))\n",
    "image_array = img_to_array(image) / 255.0\n",
    "image_array = np.expand_dims(image_array, axis=0)\n",
    "\n",
    "prediction = model.predict(image_array)\n",
    "\n",
    "print(prediction)\n",
    "if prediction > 0.5:\n",
    "    print(\"The image is predicted to belong to class 1 (vacancies).\")\n",
    "else:\n",
    "    print(\"The image is predicted to belong to class 0 (tender).\")\n",
    "\n"
   ]
  },
  {
   "cell_type": "code",
   "execution_count": 19,
   "id": "bd5222e2",
   "metadata": {},
   "outputs": [],
   "source": [
    "resnet_50 = tf.keras.applications.resnet50.ResNet50(include_top=False, weights='imagenet')\n",
    "resnet_50.trainable=False"
   ]
  },
  {
   "cell_type": "code",
   "execution_count": 20,
   "id": "71f89ee4",
   "metadata": {},
   "outputs": [],
   "source": [
    "from tensorflow import keras"
   ]
  },
  {
   "cell_type": "code",
   "execution_count": 21,
   "id": "80617dea",
   "metadata": {},
   "outputs": [
    {
     "name": "stdout",
     "output_type": "stream",
     "text": [
      "Model: \"my_model\"\n",
      "_________________________________________________________________\n",
      " Layer (type)                Output Shape              Param #   \n",
      "=================================================================\n",
      " input_2 (InputLayer)        [(None, 224, 224, 3)]     0         \n",
      "                                                                 \n",
      " resnet50 (Functional)       (None, None, None, 2048)  23587712  \n",
      "                                                                 \n",
      " global_average_pooling2d (G  (None, 2048)             0         \n",
      " lobalAveragePooling2D)                                          \n",
      "                                                                 \n",
      " dense_2 (Dense)             (None, 1)                 2049      \n",
      "                                                                 \n",
      "=================================================================\n",
      "Total params: 23,589,761\n",
      "Trainable params: 2,049\n",
      "Non-trainable params: 23,587,712\n",
      "_________________________________________________________________\n"
     ]
    }
   ],
   "source": [
    "inputs = keras.Input(shape=(224,224,3))\n",
    "x = resnet_50(inputs)\n",
    "x = keras.layers.GlobalAveragePooling2D()(x)\n",
    "outputs = keras.layers.Dense(1, activation=\"sigmoid\")(x)\n",
    "model = keras.Model(inputs=inputs, outputs=outputs, name=\"my_model\")\n",
    "model.compile(optimizer=\"Adam\", loss=\"binary_crossentropy\", metrics=[\"accuracy\"])\n",
    "model.summary()"
   ]
  },
  {
   "cell_type": "code",
   "execution_count": 22,
   "id": "55b41e57",
   "metadata": {},
   "outputs": [
    {
     "name": "stdout",
     "output_type": "stream",
     "text": [
      "[[394   0]\n",
      " [315   0]]\n"
     ]
    }
   ],
   "source": [
    "from sklearn.metrics import confusion_matrix\n",
    "# Generate predicted class probabilities for test data\n",
    "y_pred = model.predict_generator(test_generator)\n",
    "\n",
    "# Convert predicted probabilities to class labels\n",
    "y_pred_classes = np.argmax(y_pred, axis=1)\n",
    "\n",
    "# Get true class labels for test data\n",
    "y_true_classes = test_generator.classes\n",
    "\n",
    "# Calculate confusion matrix\n",
    "cm = confusion_matrix(y_true_classes, y_pred_classes)\n",
    "print(cm)"
   ]
  },
  {
   "cell_type": "code",
   "execution_count": 23,
   "id": "d63890ee",
   "metadata": {},
   "outputs": [],
   "source": [
    "from sklearn.metrics import precision_score\n",
    "from sklearn.metrics import recall_score\n",
    "from sklearn.metrics import f1_score"
   ]
  },
  {
   "cell_type": "code",
   "execution_count": 24,
   "id": "7ce3797e",
   "metadata": {},
   "outputs": [
    {
     "name": "stdout",
     "output_type": "stream",
     "text": [
      "Precision: 27.79%\n",
      "Recall: 50.00%\n",
      "F-score: 35.72%\n"
     ]
    }
   ],
   "source": [
    " precision = precision_score(y_true_classes, y_pred_classes, average='macro')\n",
    "recall = recall_score(y_true_classes, y_pred_classes, average='macro')\n",
    "f_score = f1_score(y_true_classes, y_pred_classes, average='macro')\n",
    "\n",
    "print(\"Precision: {:.2f}%\".format(precision * 100))\n",
    "print(\"Recall: {:.2f}%\".format(recall * 100))\n",
    "print(\"F-score: {:.2f}%\".format(f_score * 100))"
   ]
  },
  {
   "cell_type": "code",
   "execution_count": null,
   "id": "3c0df344",
   "metadata": {},
   "outputs": [],
   "source": []
  }
 ],
 "metadata": {
  "kernelspec": {
   "display_name": "Python 3 (ipykernel)",
   "language": "python",
   "name": "python3"
  },
  "language_info": {
   "codemirror_mode": {
    "name": "ipython",
    "version": 3
   },
   "file_extension": ".py",
   "mimetype": "text/x-python",
   "name": "python",
   "nbconvert_exporter": "python",
   "pygments_lexer": "ipython3",
   "version": "3.9.13"
  }
 },
 "nbformat": 4,
 "nbformat_minor": 5
}
